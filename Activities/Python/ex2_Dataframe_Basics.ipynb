{
 "cells": [
  {
   "cell_type": "markdown",
   "id": "577b8d54",
   "metadata": {},
   "source": [
    "# DataFrame Basics Exercise"
   ]
  },
  {
   "cell_type": "markdown",
   "id": "96471a54",
   "metadata": {},
   "source": [
    "## Part 1\n",
    "* Use pandas to read the `bestsellers` dataset into a DataFrame \n",
    "* Once you've done that, use Pandas to figure out how many rows and columns the DF has\n",
    "* Inspect the first 5 rows\n",
    "* Inspect the first 19 rows\n",
    "* Inspect the last 5 rows\n",
    "* Inspect the last 2 rows \n",
    "* Which columns (if any) are missing values?\n",
    "* What datatype did Pandas assign to \"User Rating\"?\n",
    "* How many integer columns are in the DataFrame?"
   ]
  },
  {
   "cell_type": "code",
   "execution_count": null,
   "id": "74669814",
   "metadata": {},
   "outputs": [],
   "source": []
  },
  {
   "cell_type": "markdown",
   "id": "d7752689",
   "metadata": {},
   "source": [
    "## Part 2\n",
    "\n",
    "* The `mount_everest_deaths` dataset has its own index column provided in the dataset.  When importing it, use the existing index column.\n",
    "* Which columns have zero null values?\n",
    "* Which column has the most null values?\n"
   ]
  },
  {
   "cell_type": "code",
   "execution_count": null,
   "id": "b6103562",
   "metadata": {},
   "outputs": [],
   "source": []
  },
  {
   "cell_type": "markdown",
   "id": "21d726d2",
   "metadata": {},
   "source": [
    "## Part 3\n",
    "* Import the `movie_titles.tsv` dataset\n",
    "* You'll notice that it is not comma-separated! You'll need to tell `read_csv` what the separator actually is.\n",
    "* The dataset does not come with its own column headings, so you'll need to provide those as well.  The columns are, in order, `id`, `title`, `year`, `imdb_rating`, `imdb_id`, and `genres`\n",
    "* Once you have successfully read the dataset into a DataFrame, inspect the last 7 rows!"
   ]
  },
  {
   "cell_type": "code",
   "execution_count": null,
   "id": "e71a07c2",
   "metadata": {},
   "outputs": [],
   "source": []
  },
  {
   "cell_type": "markdown",
   "id": "011a85d1",
   "metadata": {},
   "source": [
    "# DataFrame Analysis Exercise\n",
    "\n",
    "**Using the `bestsellers.csv` dataset, answer the following questions:**\n",
    "\n",
    "* Find the lowest User Rating in the DF\n",
    "* Find the highest Price in the DF\n",
    "* What is the average User Rating?\n",
    "* What the average User Rating of the first 5 rows?\n",
    "* What User Review score appeared the most?\n",
    "* What is the total (sum) of all the values in the Reviews column?\n",
    "* How many different authors are featured in the dataset?\n",
    "* Which author wrote the most number of books on the list?  How many did they write?"
   ]
  },
  {
   "cell_type": "markdown",
   "id": "05d9b7f6",
   "metadata": {},
   "source": []
  },
  {
   "cell_type": "markdown",
   "id": "5e97687c",
   "metadata": {},
   "source": [
    "# Indexes & Sorting"
   ]
  },
  {
   "cell_type": "markdown",
   "id": "4f88213b",
   "metadata": {},
   "source": [
    "## Part 1\n",
    "* Import the `pokemon.csv` dataset\n",
    "* Make the Name column the index (do it in place on the original DataFrame!)\n",
    "\n",
    "\n",
    "\n"
   ]
  },
  {
   "cell_type": "code",
   "execution_count": null,
   "id": "11438007",
   "metadata": {},
   "outputs": [],
   "source": []
  },
  {
   "cell_type": "markdown",
   "id": "cec52991",
   "metadata": {},
   "source": [
    "## Part 2\n",
    "* Sort the pokemon by the Attack column, from highest to lowest\n",
    "* Sort the pokemon by the Num column, from lowest to highest, in place.\n",
    "* Sort the pokemon by the Total column AND the Attack column (in that order!) from highest to lowest\n",
    "* Sort the pokemon by their index, from lowest to highest, in place (From A-Z)"
   ]
  },
  {
   "cell_type": "code",
   "execution_count": null,
   "id": "a6c6d554",
   "metadata": {},
   "outputs": [],
   "source": []
  },
  {
   "cell_type": "markdown",
   "id": "5e531a06",
   "metadata": {},
   "source": [
    "## Part 3\n",
    "\n",
    "* Find the average Speed of the 10 pokemon with the highest Speed.\n",
    "* Of the top 20 pokemon with the highest Attack values, what is the most common value for \"Type 1\"? "
   ]
  },
  {
   "cell_type": "code",
   "execution_count": null,
   "id": "be9b6733",
   "metadata": {},
   "outputs": [],
   "source": []
  },
  {
   "cell_type": "markdown",
   "id": "f215f9d2",
   "metadata": {},
   "source": [
    "## Part 4\n",
    "* Retrieve the row with the index label of \"Diglett\"\n",
    "* Retrieve the rows for the two fox-like Pokemon: Eevee and Vulpix\n",
    "* Make sure your DataFrame is sorted by index (A-Z).  Retrieve the rows from Charizard to Charmeleon.  You should get three rows back.\n",
    "* Retrieve the 30th, 40th, and 50th rows by position."
   ]
  },
  {
   "cell_type": "code",
   "execution_count": null,
   "id": "5cd7db1d",
   "metadata": {},
   "outputs": [],
   "source": []
  },
  {
   "cell_type": "markdown",
   "id": "4396be9e",
   "metadata": {},
   "source": [
    "## Part 5\n",
    "* Retrieve the rows of the fish-like Pokemon.  Use this list to make it easier:\n",
    "```py\n",
    "fish_pokemon = [\"Magikarp\", \"Goldeen\",\"Horsea\", \"Seaking\", \"Seadra\",\"Gyarados\"]\n",
    "```"
   ]
  },
  {
   "cell_type": "markdown",
   "id": "0fc0d023",
   "metadata": {},
   "source": []
  }
 ],
 "metadata": {
  "kernelspec": {
   "display_name": "Python 3",
   "language": "python",
   "name": "python3"
  },
  "language_info": {
   "codemirror_mode": {
    "name": "ipython",
    "version": 3
   },
   "file_extension": ".py",
   "mimetype": "text/x-python",
   "name": "python",
   "nbconvert_exporter": "python",
   "pygments_lexer": "ipython3",
   "version": "3.8.8"
  }
 },
 "nbformat": 4,
 "nbformat_minor": 5
}
