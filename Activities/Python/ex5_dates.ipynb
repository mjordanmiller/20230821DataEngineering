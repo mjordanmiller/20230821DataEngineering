{
  "cells": [
    {
      "cell_type": "markdown",
      "id": "1beed2c3",
      "metadata": {
        "id": "1beed2c3"
      },
      "source": [
        "# Working With Dates Exercise"
      ]
    },
    {
      "cell_type": "markdown",
      "source": [
        "## Part 1\n",
        "\n",
        "This part will use the kc_house data from the day 4 folder of data"
      ],
      "metadata": {
        "id": "jY_UeLbSIlhc"
      },
      "id": "jY_UeLbSIlhc"
    },
    {
      "cell_type": "code",
      "execution_count": null,
      "id": "31d62f44",
      "metadata": {
        "id": "31d62f44"
      },
      "outputs": [],
      "source": [
        "import pandas as pd"
      ]
    },
    {
      "cell_type": "code",
      "execution_count": null,
      "id": "816d2101",
      "metadata": {
        "id": "816d2101"
      },
      "outputs": [],
      "source": [
        "# Import the \"kc_house_data.csv\" and parse the \"date\" column in a single line\n"
      ]
    },
    {
      "cell_type": "code",
      "execution_count": null,
      "id": "9c7b08f1",
      "metadata": {
        "id": "9c7b08f1"
      },
      "outputs": [],
      "source": [
        "# Calculate how many days the dataset spans\n"
      ]
    },
    {
      "cell_type": "code",
      "execution_count": null,
      "id": "7f13ebaa",
      "metadata": {
        "id": "7f13ebaa"
      },
      "outputs": [],
      "source": [
        "#find the date that had the most house sales\n",
        "#find all the homes sold on that date\n"
      ]
    },
    {
      "cell_type": "code",
      "execution_count": null,
      "id": "3bf3023f",
      "metadata": {
        "id": "3bf3023f"
      },
      "outputs": [],
      "source": [
        "# Create a pie chart showing the years that home sales took place in (2014 and 2015)\n"
      ]
    },
    {
      "cell_type": "code",
      "execution_count": null,
      "id": "88fb60ab",
      "metadata": {
        "id": "88fb60ab"
      },
      "outputs": [],
      "source": [
        "#Find all the homes sold in 2014, sorted from earliest to latest\n"
      ]
    },
    {
      "cell_type": "code",
      "execution_count": null,
      "id": "a3642207",
      "metadata": {
        "id": "a3642207"
      },
      "outputs": [],
      "source": [
        "#Count up the number of sales that took place in each month of the year.  Which month had the most?\n"
      ]
    },
    {
      "cell_type": "code",
      "execution_count": null,
      "id": "b077a422",
      "metadata": {
        "id": "b077a422"
      },
      "outputs": [],
      "source": [
        "# Find the homes sold between May 1st 2014 and May 1st 2015\n",
        "# Create a bar plot showing the total number of sales per month in that period\n",
        "# The x axis should be in calendar order (1-12)\n"
      ]
    },
    {
      "cell_type": "code",
      "execution_count": null,
      "id": "566e186c",
      "metadata": {
        "id": "566e186c"
      },
      "outputs": [],
      "source": [
        "# Count up the number of homesales by day of the week\n"
      ]
    },
    {
      "cell_type": "code",
      "execution_count": null,
      "id": "9ff28a09",
      "metadata": {
        "id": "9ff28a09"
      },
      "outputs": [],
      "source": [
        "#Create a bar plot showing the total number of sales that took place in December, January, and February\n"
      ]
    },
    {
      "cell_type": "code",
      "execution_count": null,
      "id": "5d27f32e",
      "metadata": {
        "id": "5d27f32e"
      },
      "outputs": [],
      "source": [
        "#Work with the homes sold between May 1st 2014 and May 1st 2015\n",
        "#Within that year, find the waterfront homes that were sold\n",
        "#Which quarter of that year had the most waterfront home sales?  The least?\n",
        "#Create a bar plot showing the number of waterfront home sales per quarter\n"
      ]
    },
    {
      "cell_type": "markdown",
      "source": [
        "## Part 2\n",
        "\n",
        "Load in the Billboard charts data (found in the day 5 folder in github). Clean the dataset as needed and then do your own discovery analysis using the date Series"
      ],
      "metadata": {
        "id": "R9Y6iOMsJGv5"
      },
      "id": "R9Y6iOMsJGv5"
    },
    {
      "cell_type": "code",
      "source": [],
      "metadata": {
        "id": "Z19kOgZ6JWYu"
      },
      "id": "Z19kOgZ6JWYu",
      "execution_count": null,
      "outputs": []
    }
  ],
  "metadata": {
    "kernelspec": {
      "display_name": "Python 3",
      "language": "python",
      "name": "python3"
    },
    "language_info": {
      "codemirror_mode": {
        "name": "ipython",
        "version": 3
      },
      "file_extension": ".py",
      "mimetype": "text/x-python",
      "name": "python",
      "nbconvert_exporter": "python",
      "pygments_lexer": "ipython3",
      "version": "3.8.8"
    },
    "colab": {
      "provenance": []
    }
  },
  "nbformat": 4,
  "nbformat_minor": 5
}