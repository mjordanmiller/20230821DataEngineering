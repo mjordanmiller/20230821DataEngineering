{
  "cells": [
    {
      "cell_type": "markdown",
      "id": "e9ff434c",
      "metadata": {
        "id": "e9ff434c"
      },
      "source": [
        "## Types & NA Values Exercise\n",
        "\n",
        "**For the below questions, use the `netflix_titles.csv` dataset**\n",
        "\n",
        "(found in the folder for day 4 data)"
      ]
    },
    {
      "cell_type": "code",
      "execution_count": null,
      "id": "1ebc3293",
      "metadata": {
        "id": "1ebc3293"
      },
      "outputs": [],
      "source": [
        "# Import the netflix_titles.csv dataset, making sure to pass the correct separator character\n",
        "import pandas as pd\n",
        "netflix = pd.read_csv(\"data/netflix_titles.csv\", sep=\"|\", index_col=1)"
      ]
    },
    {
      "cell_type": "code",
      "execution_count": null,
      "id": "77be6fb1",
      "metadata": {
        "id": "77be6fb1"
      },
      "outputs": [],
      "source": [
        "#Quite a few rows are missing a value for country. Find the rows with no country\n"
      ]
    },
    {
      "cell_type": "code",
      "execution_count": null,
      "id": "0a7a17c6",
      "metadata": {
        "id": "0a7a17c6"
      },
      "outputs": [],
      "source": [
        "#Find the rows with no director, cast, AND country listed\n"
      ]
    },
    {
      "cell_type": "code",
      "execution_count": null,
      "id": "f6bc6c65",
      "metadata": {
        "id": "f6bc6c65"
      },
      "outputs": [],
      "source": [
        "#Drop all rows in the dataframe that have at least one NA value (not inplace!)\n"
      ]
    },
    {
      "cell_type": "code",
      "execution_count": null,
      "id": "f621b49f",
      "metadata": {
        "id": "f621b49f"
      },
      "outputs": [],
      "source": [
        "#Drop all columns in the dataframe that contain at least one NA value, not inplace!\n"
      ]
    },
    {
      "cell_type": "code",
      "execution_count": null,
      "id": "c8dc693d",
      "metadata": {
        "id": "c8dc693d",
        "scrolled": true
      },
      "outputs": [],
      "source": [
        "#Drop all rows in the dataset that have a missing director or cast (not inplace!)\n"
      ]
    },
    {
      "cell_type": "code",
      "execution_count": null,
      "id": "6834dd6b",
      "metadata": {
        "id": "6834dd6b"
      },
      "outputs": [],
      "source": [
        "# Find the rows that are missing a \"rating\"\n",
        "# Replace the na ratings with \"TV-MA\" USING .loc[]\n",
        "# Replace any nonsensical values with na\n"
      ]
    },
    {
      "cell_type": "code",
      "execution_count": null,
      "id": "62b32541",
      "metadata": {
        "id": "62b32541"
      },
      "outputs": [],
      "source": [
        "# Fill the missing \"country\" values with the most common (mode) country value, inplace!\n",
        "# Do this using fillna, rather than .loc\n"
      ]
    }
  ],
  "metadata": {
    "colab": {
      "provenance": []
    },
    "kernelspec": {
      "display_name": "Python 3",
      "language": "python",
      "name": "python3"
    },
    "language_info": {
      "codemirror_mode": {
        "name": "ipython",
        "version": 3
      },
      "file_extension": ".py",
      "mimetype": "text/x-python",
      "name": "python",
      "nbconvert_exporter": "python",
      "pygments_lexer": "ipython3",
      "version": "3.8.8"
    }
  },
  "nbformat": 4,
  "nbformat_minor": 5
}
