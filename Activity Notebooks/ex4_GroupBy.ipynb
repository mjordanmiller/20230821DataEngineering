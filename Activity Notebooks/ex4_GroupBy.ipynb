{
  "cells": [
    {
      "cell_type": "markdown",
      "id": "8520abc4",
      "metadata": {
        "id": "8520abc4"
      },
      "source": [
        "# Group By Exercise\n",
        "\n",
        "**This exercise uses the `laliga.csv` dataset**"
      ]
    },
    {
      "cell_type": "markdown",
      "id": "f0e89d70",
      "metadata": {
        "id": "f0e89d70"
      },
      "source": [
        "## Part 1"
      ]
    },
    {
      "cell_type": "code",
      "execution_count": null,
      "id": "ed752da7",
      "metadata": {
        "id": "ed752da7"
      },
      "outputs": [],
      "source": [
        "#Find the 5 teams that had the most \"Red Cards\"\n"
      ]
    },
    {
      "cell_type": "code",
      "execution_count": null,
      "id": "b0a5cf50",
      "metadata": {
        "id": "b0a5cf50"
      },
      "outputs": [],
      "source": [
        "# Find the average number of \"Long passes\" made by each Position (Goalkeeper, Forward, etc.)\n"
      ]
    },
    {
      "cell_type": "code",
      "execution_count": null,
      "id": "2a0b721d",
      "metadata": {
        "id": "2a0b721d"
      },
      "outputs": [],
      "source": [
        "#Find the 10 Shirt numbers that scored the most goals\n"
      ]
    },
    {
      "cell_type": "markdown",
      "id": "b751fa14",
      "metadata": {
        "id": "b751fa14"
      },
      "source": [
        "## Part 2"
      ]
    },
    {
      "cell_type": "markdown",
      "id": "086fa0f0",
      "metadata": {
        "id": "086fa0f0"
      },
      "source": [
        "**Use `agg` to create a dataframe that contains:**\n",
        "* A `total` column containing the total \"Shots\" taken by each team\n",
        "* A `on_target` column containing the total \"Shots on target\" taken by each team\n",
        "* It should look like the following dataframe (but for all teams in the dataset):\n",
        "\n",
        "| Team   | total | on_target |\n",
        "| ----------- | ----------- | ----------- |\n",
        "| **Real Betis** | 300      |158\n",
        "| **Levante UD** | 314      |157"
      ]
    },
    {
      "cell_type": "markdown",
      "source": [
        "## Part 3"
      ],
      "metadata": {
        "id": "o_GXJ7SP9Qwn"
      },
      "id": "o_GXJ7SP9Qwn"
    },
    {
      "cell_type": "markdown",
      "source": [
        "**Using the imdb top 1000 movies dataset find the following**\n",
        "\n",
        "* Get rid of useless columns\n",
        "\n",
        "* Oldest movie\n",
        "\n",
        "* Newest movie\n",
        "\n",
        "* Top 10 movies by IMDB rating  \n",
        "\n",
        "* Top movie for each genre\n",
        "\n",
        "* Director with the most movies\n",
        "\n",
        "* Start with the most movies  \n",
        "\n",
        "* Highest grossing movie for each genre\n",
        "\n",
        "* Lowest grossing movie for each director\n",
        "\n",
        "* Save the dataframe as a parquet file\n",
        "\n",
        "* Aggregate the gross revenue for all 1000 movies."
      ],
      "metadata": {
        "id": "ApiWU1bE9VP_"
      },
      "id": "ApiWU1bE9VP_"
    },
    {
      "cell_type": "code",
      "execution_count": null,
      "id": "bbf1b45b",
      "metadata": {
        "id": "bbf1b45b"
      },
      "outputs": [],
      "source": []
    },
    {
      "cell_type": "code",
      "execution_count": null,
      "id": "115156c7",
      "metadata": {
        "id": "115156c7"
      },
      "outputs": [],
      "source": []
    }
  ],
  "metadata": {
    "kernelspec": {
      "display_name": "Python 3",
      "language": "python",
      "name": "python3"
    },
    "language_info": {
      "codemirror_mode": {
        "name": "ipython",
        "version": 3
      },
      "file_extension": ".py",
      "mimetype": "text/x-python",
      "name": "python",
      "nbconvert_exporter": "python",
      "pygments_lexer": "ipython3",
      "version": "3.8.8"
    },
    "colab": {
      "provenance": []
    }
  },
  "nbformat": 4,
  "nbformat_minor": 5
}