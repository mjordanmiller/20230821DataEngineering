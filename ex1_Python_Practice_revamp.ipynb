{
  "nbformat": 4,
  "nbformat_minor": 0,
  "metadata": {
    "colab": {
      "provenance": []
    },
    "kernelspec": {
      "name": "python3",
      "display_name": "Python 3"
    },
    "language_info": {
      "name": "python"
    }
  },
  "cells": [
    {
      "cell_type": "markdown",
      "source": [
        "Using the macbeth.txt and movies.csv files, answer the following questions\n"
      ],
      "metadata": {
        "id": "X2JZ-LP540Vo"
      }
    },
    {
      "cell_type": "markdown",
      "source": [
        "## Question 1\n",
        "\n",
        "Write a Python script that will count the number of words in the Macbeth file."
      ],
      "metadata": {
        "id": "lSuSFNd-49gE"
      }
    },
    {
      "cell_type": "markdown",
      "source": [
        "## Question 2\n",
        "\n",
        "Write a Python script that converts the text to all lowercase, and then return a list of all of the unique characters ('a','b','c', etc. not 'Macbeth', etc) in the text file"
      ],
      "metadata": {
        "id": "AJ45j-2a5Fku"
      }
    },
    {
      "cell_type": "markdown",
      "source": [
        "## Question 3\n",
        "For each character returned in Question 2, count the number of times that it appears in the text. Your\n",
        "answer needs to be a list. Each item in the list is a tuple. Each tuple has two items: the number of times\n",
        "the letter appears and the letter. Example [ (50,’n’), (6, ‘b’), (8, ‘d’) ]"
      ],
      "metadata": {
        "id": "eKkFWaBX7azI"
      }
    },
    {
      "cell_type": "markdown",
      "source": [
        "## Question 4\n",
        "In the original script the word ‘Macbeth’ appears two different ways. The ‘MACBETH’ is used when\n",
        "he is speaking, and the ‘Macbeth’ is used when the name is used in the dialog. Write a Python script\n",
        "that collects the words that are immediately after the occurrences of ‘Macbeth’."
      ],
      "metadata": {
        "id": "9Jw682Z87hLt"
      }
    },
    {
      "cell_type": "markdown",
      "source": [
        "## Question 5\n",
        "Sort the answer from Question 3 so that the order of the tuples is from the most common to the least\n",
        "common letters. Using the example shown in Question 3 the answer would look like [ (50, ‘n’), (8, ‘d’),\n",
        "(6, ‘b’) ]"
      ],
      "metadata": {
        "id": "fCS38p177ny0"
      }
    },
    {
      "cell_type": "markdown",
      "source": [
        "## Question 6\n",
        "Similarly, what word showed up the most in this play. Please exclude any stop words.\n",
        "\n",
        "stop_words :: \"a\", \"an\", \"and\", \"are\", \"as\", \"at\", \"for\", \"from\", \"but\", \"by\",\n",
        "    \"he\", \"her\", \"him\", \"his\", \"in\", \"is\", \"it\", \"of\", \"on\", \"or\",\n",
        "    \"she\", \"the\", \"to\", \"was\", \"with\", \"you\", \"i\", \"me\", \"my\", \"we\",\n",
        "    \"us\", \"our\", \"your\", \"their\", \"this\", \"that\", \"these\", \"those\"\n"
      ],
      "metadata": {
        "id": "eJX_OmM_8Yj8"
      }
    },
    {
      "cell_type": "markdown",
      "source": [
        "## Question 7\n",
        "Are there any palindromes (words that read the same forwards and back -- ex. racecar) in the text?"
      ],
      "metadata": {
        "id": "SQPvekRH76he"
      }
    },
    {
      "cell_type": "markdown",
      "source": [
        "## Question 8\n",
        "Try to read in the movies.csv file using the same approach. What analysis can you make from that file?\n",
        "\n",
        "What is the data in the file about? What exploratory findings can you make from it? Create two of your own questions and answer them in this notebook.\n",
        "\n",
        "Additionally, as you can tell, I have not added to this dataset in a while. To help aid me in this, directly message me on teams with the {title, year, and grade} of two movies that are not currently in the data"
      ],
      "metadata": {
        "id": "sZS31hwl-SFi"
      }
    },
    {
      "cell_type": "markdown",
      "source": [
        "## Question 9\n",
        "Create a python function that will take a single character (such as \"a\") and a string of text as input. The output of this function should tell the user some basic facts about that character, such as how many times it appears in the text -- as a lower case letter and an upper case letter and what it's \"rank\" is in frequency compared to the others"
      ],
      "metadata": {
        "id": "hnqvah2JOtBP"
      }
    },
    {
      "cell_type": "markdown",
      "source": [
        "## Question 10\n",
        "Create a function that will take a list of integers as the input and return the median number in the list. If there is an even number of elements in the list, take the average of the two middle-most elements."
      ],
      "metadata": {
        "id": "ejYcV-BwPyIC"
      }
    },
    {
      "cell_type": "markdown",
      "source": [
        "## Question 11\n",
        "Let's create your Stormer Spotlight! Navigate to our Canvas page for details on the stormer spotlight and create yours now"
      ],
      "metadata": {
        "id": "2qCamrAI3JHD"
      }
    },
    {
      "cell_type": "markdown",
      "source": [
        "## Extra Questions (Time Permitting)\n",
        "\n",
        "Below, you will find the links to 5 python questions in hackerrank. If you have completed the other 9 questions, attempt these for some more python practice\n",
        "\n",
        "#### String Validator\n",
        "\n",
        "https://www.hackerrank.com/challenges/string-validators/problem?isFullScreen=true\n",
        "\n",
        "\n",
        "\n",
        "#### String Mutation\n",
        "\n",
        "https://www.hackerrank.com/challenges/python-mutations/problem?isFullScreen=true\n",
        "\n",
        "\n",
        "\n",
        "#### Company Logo\n",
        "\n",
        "https://www.hackerrank.com/challenges/most-commons/problem?isFullScreen=true\n",
        "\n",
        "\n",
        "\n",
        "#### Word Score (Function Debugging)\n",
        "\n",
        "https://www.hackerrank.com/challenges/words-score/problem?isFullScreen=true\n",
        "\n",
        "\n",
        "\n",
        "#### Matrix Script\n",
        "\n",
        "https://www.hackerrank.com/challenges/matrix-script/problem?isFullScreen=true"
      ],
      "metadata": {
        "id": "NPG9XMwj3e-Q"
      }
    }
  ]
}